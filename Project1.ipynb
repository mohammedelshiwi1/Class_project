{
 "cells": [
  {
   "cell_type": "code",
   "execution_count": 14,
   "id": "7c5bffec-da7b-4a3e-8931-a769bd8045fd",
   "metadata": {},
   "outputs": [],
   "source": [
    "class Shopping_cart:\n",
    "    num_visitor=0\n",
    "    def __init__(self):\n",
    "        self.items=[]\n",
    "        Shopping_cart.num_visitor+=1\n",
    "    def add_item(self,item,value):\n",
    "        tup=(item,value)\n",
    "        self.items.append(tup)\n",
    "        print(\"Done!\")\n",
    "    def remove_item(self,item):\n",
    "        exist=False\n",
    "        for i in self.items:\n",
    "            if i[0]==item:\n",
    "                exist=True\n",
    "                removal=i\n",
    "        if exist:\n",
    "             self.items.remove(removal)\n",
    "             print(\"Done\")\n",
    "        else:\n",
    "            print(\"not found\")\n",
    "    def total_price(self):\n",
    "        s=0\n",
    "        for i in self.items:\n",
    "             s+=i[1]\n",
    "        return s\n",
    "    def show(self):\n",
    "            return self.items\n",
    "    @classmethod\n",
    "    def n_visitors(cls):\n",
    "        return cls.num_visitor\n",
    "    @staticmethod\n",
    "    def calc_price(*args):\n",
    "        return sum(args)\n",
    "\n",
    "            \n",
    "               \n",
    "\n",
    "             \n",
    "                 \n",
    "                "
   ]
  },
  {
   "cell_type": "code",
   "execution_count": 9,
   "id": "b9a43d3e-8db3-44f1-8203-d69794dd5ed3",
   "metadata": {},
   "outputs": [],
   "source": [
    "p1=Shopping_cart()\n"
   ]
  },
  {
   "cell_type": "code",
   "execution_count": 10,
   "id": "f7402eba-c56d-4b8d-a2f5-1a38a5cdaf1a",
   "metadata": {},
   "outputs": [
    {
     "name": "stdout",
     "output_type": "stream",
     "text": [
      "Done!\n"
     ]
    }
   ],
   "source": [
    "p1.add_item(\"item1\",100)"
   ]
  },
  {
   "cell_type": "code",
   "execution_count": 11,
   "id": "74e584c8-a987-49ea-8195-a5e8f0368a98",
   "metadata": {},
   "outputs": [
    {
     "data": {
      "text/plain": [
       "[('item1', 100)]"
      ]
     },
     "execution_count": 11,
     "metadata": {},
     "output_type": "execute_result"
    }
   ],
   "source": [
    "p1.show()"
   ]
  },
  {
   "cell_type": "code",
   "execution_count": null,
   "id": "b137c37c-57cf-4531-8ea4-6658dddf8eb0",
   "metadata": {},
   "outputs": [],
   "source": []
  }
 ],
 "metadata": {
  "kernelspec": {
   "display_name": "Python 3 (ipykernel)",
   "language": "python",
   "name": "python3"
  },
  "language_info": {
   "codemirror_mode": {
    "name": "ipython",
    "version": 3
   },
   "file_extension": ".py",
   "mimetype": "text/x-python",
   "name": "python",
   "nbconvert_exporter": "python",
   "pygments_lexer": "ipython3",
   "version": "3.11.7"
  }
 },
 "nbformat": 4,
 "nbformat_minor": 5
}
